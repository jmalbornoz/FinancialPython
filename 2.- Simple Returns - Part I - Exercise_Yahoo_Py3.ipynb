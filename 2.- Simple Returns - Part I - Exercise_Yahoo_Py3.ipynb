{
 "cells": [
  {
   "cell_type": "markdown",
   "metadata": {},
   "source": [
    "## Simpler Returns - Part I"
   ]
  },
  {
   "cell_type": "code",
   "execution_count": 1,
   "metadata": {},
   "outputs": [],
   "source": [
    "# Render our plots inline\n",
    "%matplotlib inline\n",
    "from matplotlib.colors import ListedColormap\n",
    "import matplotlib.pyplot as plt"
   ]
  },
  {
   "cell_type": "code",
   "execution_count": 2,
   "metadata": {},
   "outputs": [],
   "source": [
    "import numpy as np\n",
    "from pandas_datareader import data as wb\n",
    "import matplotlib.pyplot as plt"
   ]
  },
  {
   "cell_type": "markdown",
   "metadata": {},
   "source": [
    "Download the data for Microsoft (‘MSFT’) from Yahoo Finance for the period ‘2000-1-1’ until today."
   ]
  },
  {
   "cell_type": "code",
   "execution_count": 3,
   "metadata": {},
   "outputs": [],
   "source": [
    "MSFT = wb.DataReader('MSFT', data_source='yahoo', start='2001-1-1')"
   ]
  },
  {
   "cell_type": "markdown",
   "metadata": {},
   "source": [
    "Apply the .**head()** and **.tail()** methods to check if the data is ok. Always pay attention to the dates. Try to get an idea about how the stock price changed during the period."
   ]
  },
  {
   "cell_type": "code",
   "execution_count": 4,
   "metadata": {},
   "outputs": [
    {
     "data": {
      "text/html": [
       "<div>\n",
       "<style scoped>\n",
       "    .dataframe tbody tr th:only-of-type {\n",
       "        vertical-align: middle;\n",
       "    }\n",
       "\n",
       "    .dataframe tbody tr th {\n",
       "        vertical-align: top;\n",
       "    }\n",
       "\n",
       "    .dataframe thead th {\n",
       "        text-align: right;\n",
       "    }\n",
       "</style>\n",
       "<table border=\"1\" class=\"dataframe\">\n",
       "  <thead>\n",
       "    <tr style=\"text-align: right;\">\n",
       "      <th></th>\n",
       "      <th>High</th>\n",
       "      <th>Low</th>\n",
       "      <th>Open</th>\n",
       "      <th>Close</th>\n",
       "      <th>Volume</th>\n",
       "      <th>Adj Close</th>\n",
       "    </tr>\n",
       "    <tr>\n",
       "      <th>Date</th>\n",
       "      <th></th>\n",
       "      <th></th>\n",
       "      <th></th>\n",
       "      <th></th>\n",
       "      <th></th>\n",
       "      <th></th>\n",
       "    </tr>\n",
       "  </thead>\n",
       "  <tbody>\n",
       "    <tr>\n",
       "      <th>2001-01-02</th>\n",
       "      <td>22.5000</td>\n",
       "      <td>21.43750</td>\n",
       "      <td>22.06250</td>\n",
       "      <td>21.68750</td>\n",
       "      <td>82413200.0</td>\n",
       "      <td>15.671865</td>\n",
       "    </tr>\n",
       "    <tr>\n",
       "      <th>2001-01-03</th>\n",
       "      <td>24.4375</td>\n",
       "      <td>21.56250</td>\n",
       "      <td>21.59375</td>\n",
       "      <td>23.96875</td>\n",
       "      <td>135962200.0</td>\n",
       "      <td>17.320343</td>\n",
       "    </tr>\n",
       "    <tr>\n",
       "      <th>2001-01-04</th>\n",
       "      <td>25.2500</td>\n",
       "      <td>23.43750</td>\n",
       "      <td>23.90625</td>\n",
       "      <td>24.21875</td>\n",
       "      <td>112397000.0</td>\n",
       "      <td>17.501005</td>\n",
       "    </tr>\n",
       "    <tr>\n",
       "      <th>2001-01-05</th>\n",
       "      <td>24.9375</td>\n",
       "      <td>23.78125</td>\n",
       "      <td>24.25000</td>\n",
       "      <td>24.56250</td>\n",
       "      <td>93414600.0</td>\n",
       "      <td>17.749405</td>\n",
       "    </tr>\n",
       "    <tr>\n",
       "      <th>2001-01-08</th>\n",
       "      <td>24.8750</td>\n",
       "      <td>23.34375</td>\n",
       "      <td>24.46875</td>\n",
       "      <td>24.46875</td>\n",
       "      <td>79817600.0</td>\n",
       "      <td>17.681648</td>\n",
       "    </tr>\n",
       "  </tbody>\n",
       "</table>\n",
       "</div>"
      ],
      "text/plain": [
       "               High       Low      Open     Close       Volume  Adj Close\n",
       "Date                                                                     \n",
       "2001-01-02  22.5000  21.43750  22.06250  21.68750   82413200.0  15.671865\n",
       "2001-01-03  24.4375  21.56250  21.59375  23.96875  135962200.0  17.320343\n",
       "2001-01-04  25.2500  23.43750  23.90625  24.21875  112397000.0  17.501005\n",
       "2001-01-05  24.9375  23.78125  24.25000  24.56250   93414600.0  17.749405\n",
       "2001-01-08  24.8750  23.34375  24.46875  24.46875   79817600.0  17.681648"
      ]
     },
     "execution_count": 4,
     "metadata": {},
     "output_type": "execute_result"
    }
   ],
   "source": [
    "MSFT.head()"
   ]
  },
  {
   "cell_type": "code",
   "execution_count": 5,
   "metadata": {},
   "outputs": [
    {
     "data": {
      "text/html": [
       "<div>\n",
       "<style scoped>\n",
       "    .dataframe tbody tr th:only-of-type {\n",
       "        vertical-align: middle;\n",
       "    }\n",
       "\n",
       "    .dataframe tbody tr th {\n",
       "        vertical-align: top;\n",
       "    }\n",
       "\n",
       "    .dataframe thead th {\n",
       "        text-align: right;\n",
       "    }\n",
       "</style>\n",
       "<table border=\"1\" class=\"dataframe\">\n",
       "  <thead>\n",
       "    <tr style=\"text-align: right;\">\n",
       "      <th></th>\n",
       "      <th>High</th>\n",
       "      <th>Low</th>\n",
       "      <th>Open</th>\n",
       "      <th>Close</th>\n",
       "      <th>Volume</th>\n",
       "      <th>Adj Close</th>\n",
       "    </tr>\n",
       "    <tr>\n",
       "      <th>Date</th>\n",
       "      <th></th>\n",
       "      <th></th>\n",
       "      <th></th>\n",
       "      <th></th>\n",
       "      <th></th>\n",
       "      <th></th>\n",
       "    </tr>\n",
       "  </thead>\n",
       "  <tbody>\n",
       "    <tr>\n",
       "      <th>2019-05-02</th>\n",
       "      <td>128.000000</td>\n",
       "      <td>125.519997</td>\n",
       "      <td>127.980003</td>\n",
       "      <td>126.209999</td>\n",
       "      <td>27350200.0</td>\n",
       "      <td>126.209999</td>\n",
       "    </tr>\n",
       "    <tr>\n",
       "      <th>2019-05-03</th>\n",
       "      <td>129.429993</td>\n",
       "      <td>127.250000</td>\n",
       "      <td>127.360001</td>\n",
       "      <td>128.899994</td>\n",
       "      <td>24911100.0</td>\n",
       "      <td>128.899994</td>\n",
       "    </tr>\n",
       "    <tr>\n",
       "      <th>2019-05-06</th>\n",
       "      <td>128.559998</td>\n",
       "      <td>126.110001</td>\n",
       "      <td>126.389999</td>\n",
       "      <td>128.149994</td>\n",
       "      <td>24239800.0</td>\n",
       "      <td>128.149994</td>\n",
       "    </tr>\n",
       "    <tr>\n",
       "      <th>2019-05-07</th>\n",
       "      <td>127.180000</td>\n",
       "      <td>124.220001</td>\n",
       "      <td>126.459999</td>\n",
       "      <td>125.519997</td>\n",
       "      <td>36017700.0</td>\n",
       "      <td>125.519997</td>\n",
       "    </tr>\n",
       "    <tr>\n",
       "      <th>2019-05-08</th>\n",
       "      <td>126.370003</td>\n",
       "      <td>124.750000</td>\n",
       "      <td>125.440002</td>\n",
       "      <td>125.510002</td>\n",
       "      <td>25786500.0</td>\n",
       "      <td>125.510002</td>\n",
       "    </tr>\n",
       "  </tbody>\n",
       "</table>\n",
       "</div>"
      ],
      "text/plain": [
       "                  High         Low        Open       Close      Volume  \\\n",
       "Date                                                                     \n",
       "2019-05-02  128.000000  125.519997  127.980003  126.209999  27350200.0   \n",
       "2019-05-03  129.429993  127.250000  127.360001  128.899994  24911100.0   \n",
       "2019-05-06  128.559998  126.110001  126.389999  128.149994  24239800.0   \n",
       "2019-05-07  127.180000  124.220001  126.459999  125.519997  36017700.0   \n",
       "2019-05-08  126.370003  124.750000  125.440002  125.510002  25786500.0   \n",
       "\n",
       "             Adj Close  \n",
       "Date                    \n",
       "2019-05-02  126.209999  \n",
       "2019-05-03  128.899994  \n",
       "2019-05-06  128.149994  \n",
       "2019-05-07  125.519997  \n",
       "2019-05-08  125.510002  "
      ]
     },
     "execution_count": 5,
     "metadata": {},
     "output_type": "execute_result"
    }
   ],
   "source": [
    "MSFT.tail()"
   ]
  },
  {
   "cell_type": "code",
   "execution_count": 6,
   "metadata": {},
   "outputs": [
    {
     "data": {
      "text/plain": [
       "<matplotlib.axes._subplots.AxesSubplot at 0x21bd6a74c88>"
      ]
     },
     "execution_count": 6,
     "metadata": {},
     "output_type": "execute_result"
    },
    {
     "data": {
      "image/png": "[encoded data removed]",
      "text/plain": [
       "<Figure size 432x288 with 1 Axes>"
      ]
     },
     "metadata": {
      "needs_background": "light"
     },
     "output_type": "display_data"
    }
   ],
   "source": [
    "MSFT.plot(y='Close')"
   ]
  },
  {
   "cell_type": "markdown",
   "metadata": {
    "collapsed": true
   },
   "source": [
    "### Simple Rate of Return"
   ]
  },
  {
   "cell_type": "code",
   "execution_count": 7,
   "metadata": {},
   "outputs": [
    {
     "name": "stdout",
     "output_type": "stream",
     "text": [
      "Date\n",
      "2001-01-02         NaN\n",
      "2001-01-03    0.105187\n",
      "2001-01-04    0.010431\n",
      "2001-01-05    0.014193\n",
      "2001-01-08   -0.003817\n",
      "2001-01-09    0.058749\n",
      "2001-01-10    0.020507\n",
      "2001-01-11    0.040189\n",
      "2001-01-12   -0.027273\n",
      "2001-01-16   -0.017523\n",
      "2001-01-17    0.007134\n",
      "2001-01-18    0.048406\n",
      "2001-01-19    0.099099\n",
      "2001-01-22   -0.014344\n",
      "2001-01-23    0.007277\n",
      "2001-01-24    0.039216\n",
      "2001-01-25   -0.017875\n",
      "2001-01-26    0.035389\n",
      "2001-01-29    0.007812\n",
      "2001-01-30   -0.017442\n",
      "2001-01-31   -0.036489\n",
      "2001-02-01    0.021494\n",
      "2001-02-02   -0.025050\n",
      "2001-02-05    0.018499\n",
      "2001-02-06    0.010091\n",
      "2001-02-07    0.033966\n",
      "2001-02-08   -0.037681\n",
      "2001-02-09   -0.050201\n",
      "2001-02-12   -0.006342\n",
      "2001-02-13   -0.009575\n",
      "                ...   \n",
      "2019-03-27   -0.009668\n",
      "2019-03-28    0.001370\n",
      "2019-03-29    0.008638\n",
      "2019-04-01    0.009157\n",
      "2019-04-02    0.001428\n",
      "2019-04-03    0.006544\n",
      "2019-04-04   -0.005085\n",
      "2019-04-05    0.004440\n",
      "2019-04-08    0.000334\n",
      "2019-04-09   -0.005420\n",
      "2019-04-10    0.007629\n",
      "2019-04-11    0.001165\n",
      "2019-04-12    0.005152\n",
      "2019-04-15    0.000827\n",
      "2019-04-16   -0.002313\n",
      "2019-04-17    0.008280\n",
      "2019-04-18    0.013140\n",
      "2019-04-22    0.003161\n",
      "2019-04-23    0.013575\n",
      "2019-04-24   -0.003428\n",
      "2019-04-25    0.033117\n",
      "2019-04-26    0.005730\n",
      "2019-04-29   -0.000924\n",
      "2019-04-30    0.006396\n",
      "2019-05-01   -0.020827\n",
      "2019-05-02   -0.013059\n",
      "2019-05-03    0.021314\n",
      "2019-05-06   -0.005818\n",
      "2019-05-07   -0.020523\n",
      "2019-05-08   -0.000080\n",
      "Name: simple_return, Length: 4615, dtype: float64\n"
     ]
    }
   ],
   "source": [
    "MSFT['simple_return'] = (MSFT['Adj Close'] / MSFT['Adj Close'].shift(1)) - 1\n",
    "print (MSFT['simple_return'])"
   ]
  },
  {
   "cell_type": "markdown",
   "metadata": {},
   "source": [
    "Calculate the simple returns of ‘MSFT’ for the given timeframe."
   ]
  },
  {
   "cell_type": "markdown",
   "metadata": {},
   "source": [
    "$$\n",
    "\\frac{P_1 - P_0}{P_0} = \\frac{P_1}{P_0} - 1\n",
    "$$"
   ]
  },
  {
   "cell_type": "code",
   "execution_count": 8,
   "metadata": {},
   "outputs": [
    {
     "data": {
      "text/plain": [
       "<matplotlib.axes._subplots.AxesSubplot at 0x21bd71da668>"
      ]
     },
     "execution_count": 8,
     "metadata": {},
     "output_type": "execute_result"
    },
    {
     "data": {
      "image/png": "[encoded data removed]",
      "text/plain": [
       "<Figure size 432x288 with 1 Axes>"
      ]
     },
     "metadata": {
      "needs_background": "light"
     },
     "output_type": "display_data"
    }
   ],
   "source": [
    "MSFT.plot(y='simple_return')"
   ]
  },
  {
   "cell_type": "code",
   "execution_count": null,
   "metadata": {},
   "outputs": [],
   "source": []
  }
 ],
 "metadata": {
  "kernelspec": {
   "display_name": "Python 3",
   "language": "python",
   "name": "python3"
  },
  "language_info": {
   "codemirror_mode": {
    "name": "ipython",
    "version": 3
   },
   "file_extension": ".py",
   "mimetype": "text/x-python",
   "name": "python",
   "nbconvert_exporter": "python",
   "pygments_lexer": "ipython3",
   "version": "3.6.8"
  }
 },
 "nbformat": 4,
 "nbformat_minor": 2
}
