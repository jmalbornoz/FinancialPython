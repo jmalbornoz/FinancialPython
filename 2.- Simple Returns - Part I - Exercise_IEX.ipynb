{
 "cells": [
  {
   "cell_type": "markdown",
   "metadata": {},
   "source": [
    "## Simpler Returns - Part I"
   ]
  },
  {
   "cell_type": "code",
   "execution_count": 1,
   "metadata": {},
   "outputs": [],
   "source": [
    "# Render our plots inline\n",
    "%matplotlib inline\n",
    "from matplotlib.colors import ListedColormap\n",
    "import matplotlib.pyplot as plt"
   ]
  },
  {
   "cell_type": "code",
   "execution_count": 2,
   "metadata": {},
   "outputs": [],
   "source": [
    "import numpy as np\n",
    "from pandas_datareader import data as wb\n",
    "import matplotlib.pyplot as plt"
   ]
  },
  {
   "cell_type": "markdown",
   "metadata": {},
   "source": [
    "Download the data for Microsoft (‘MSFT’) from IEX for the period ‘2015-1-1’ until today."
   ]
  },
  {
   "cell_type": "code",
   "execution_count": 3,
   "metadata": {},
   "outputs": [],
   "source": [
    "MSFT = wb.DataReader('MSFT', data_source='iex', start='2015-1-1')"
   ]
  },
  {
   "cell_type": "markdown",
   "metadata": {},
   "source": [
    "Apply the .**head()** and **.tail()** methods to check if the data is ok. Always pay attention to the dates. Try to get an idea about how the stock price changed during the period."
   ]
  },
  {
   "cell_type": "code",
   "execution_count": 4,
   "metadata": {},
   "outputs": [
    {
     "data": {
      "text/html": [
       "<div>\n",
       "<style scoped>\n",
       "    .dataframe tbody tr th:only-of-type {\n",
       "        vertical-align: middle;\n",
       "    }\n",
       "\n",
       "    .dataframe tbody tr th {\n",
       "        vertical-align: top;\n",
       "    }\n",
       "\n",
       "    .dataframe thead th {\n",
       "        text-align: right;\n",
       "    }\n",
       "</style>\n",
       "<table border=\"1\" class=\"dataframe\">\n",
       "  <thead>\n",
       "    <tr style=\"text-align: right;\">\n",
       "      <th></th>\n",
       "      <th>open</th>\n",
       "      <th>high</th>\n",
       "      <th>low</th>\n",
       "      <th>close</th>\n",
       "      <th>volume</th>\n",
       "    </tr>\n",
       "    <tr>\n",
       "      <th>date</th>\n",
       "      <th></th>\n",
       "      <th></th>\n",
       "      <th></th>\n",
       "      <th></th>\n",
       "      <th></th>\n",
       "    </tr>\n",
       "  </thead>\n",
       "  <tbody>\n",
       "    <tr>\n",
       "      <th>2015-01-02</th>\n",
       "      <td>42.3280</td>\n",
       "      <td>43.0174</td>\n",
       "      <td>42.2191</td>\n",
       "      <td>42.4187</td>\n",
       "      <td>27913852</td>\n",
       "    </tr>\n",
       "    <tr>\n",
       "      <th>2015-01-05</th>\n",
       "      <td>42.0649</td>\n",
       "      <td>42.3915</td>\n",
       "      <td>41.9560</td>\n",
       "      <td>42.0241</td>\n",
       "      <td>39673865</td>\n",
       "    </tr>\n",
       "    <tr>\n",
       "      <th>2015-01-06</th>\n",
       "      <td>42.0740</td>\n",
       "      <td>42.4087</td>\n",
       "      <td>41.3120</td>\n",
       "      <td>41.4118</td>\n",
       "      <td>36447854</td>\n",
       "    </tr>\n",
       "    <tr>\n",
       "      <th>2015-01-07</th>\n",
       "      <td>41.7111</td>\n",
       "      <td>42.1466</td>\n",
       "      <td>41.2666</td>\n",
       "      <td>41.9379</td>\n",
       "      <td>29114061</td>\n",
       "    </tr>\n",
       "    <tr>\n",
       "      <th>2015-01-08</th>\n",
       "      <td>42.4096</td>\n",
       "      <td>43.3167</td>\n",
       "      <td>42.3824</td>\n",
       "      <td>43.1716</td>\n",
       "      <td>29645202</td>\n",
       "    </tr>\n",
       "  </tbody>\n",
       "</table>\n",
       "</div>"
      ],
      "text/plain": [
       "               open     high      low    close    volume\n",
       "date                                                    \n",
       "2015-01-02  42.3280  43.0174  42.2191  42.4187  27913852\n",
       "2015-01-05  42.0649  42.3915  41.9560  42.0241  39673865\n",
       "2015-01-06  42.0740  42.4087  41.3120  41.4118  36447854\n",
       "2015-01-07  41.7111  42.1466  41.2666  41.9379  29114061\n",
       "2015-01-08  42.4096  43.3167  42.3824  43.1716  29645202"
      ]
     },
     "execution_count": 4,
     "metadata": {},
     "output_type": "execute_result"
    }
   ],
   "source": [
    "MSFT.head()"
   ]
  },
  {
   "cell_type": "code",
   "execution_count": 5,
   "metadata": {},
   "outputs": [
    {
     "data": {
      "text/html": [
       "<div>\n",
       "<style scoped>\n",
       "    .dataframe tbody tr th:only-of-type {\n",
       "        vertical-align: middle;\n",
       "    }\n",
       "\n",
       "    .dataframe tbody tr th {\n",
       "        vertical-align: top;\n",
       "    }\n",
       "\n",
       "    .dataframe thead th {\n",
       "        text-align: right;\n",
       "    }\n",
       "</style>\n",
       "<table border=\"1\" class=\"dataframe\">\n",
       "  <thead>\n",
       "    <tr style=\"text-align: right;\">\n",
       "      <th></th>\n",
       "      <th>open</th>\n",
       "      <th>high</th>\n",
       "      <th>low</th>\n",
       "      <th>close</th>\n",
       "      <th>volume</th>\n",
       "    </tr>\n",
       "    <tr>\n",
       "      <th>date</th>\n",
       "      <th></th>\n",
       "      <th></th>\n",
       "      <th></th>\n",
       "      <th></th>\n",
       "      <th></th>\n",
       "    </tr>\n",
       "  </thead>\n",
       "  <tbody>\n",
       "    <tr>\n",
       "      <th>2019-05-02</th>\n",
       "      <td>127.98</td>\n",
       "      <td>128.00</td>\n",
       "      <td>125.52</td>\n",
       "      <td>126.21</td>\n",
       "      <td>27350161</td>\n",
       "    </tr>\n",
       "    <tr>\n",
       "      <th>2019-05-03</th>\n",
       "      <td>127.36</td>\n",
       "      <td>129.43</td>\n",
       "      <td>127.25</td>\n",
       "      <td>128.90</td>\n",
       "      <td>24911126</td>\n",
       "    </tr>\n",
       "    <tr>\n",
       "      <th>2019-05-06</th>\n",
       "      <td>126.39</td>\n",
       "      <td>128.56</td>\n",
       "      <td>126.11</td>\n",
       "      <td>128.15</td>\n",
       "      <td>24239464</td>\n",
       "    </tr>\n",
       "    <tr>\n",
       "      <th>2019-05-07</th>\n",
       "      <td>126.46</td>\n",
       "      <td>127.18</td>\n",
       "      <td>124.22</td>\n",
       "      <td>125.52</td>\n",
       "      <td>36017661</td>\n",
       "    </tr>\n",
       "    <tr>\n",
       "      <th>2019-05-08</th>\n",
       "      <td>125.44</td>\n",
       "      <td>126.37</td>\n",
       "      <td>124.75</td>\n",
       "      <td>125.51</td>\n",
       "      <td>28418996</td>\n",
       "    </tr>\n",
       "  </tbody>\n",
       "</table>\n",
       "</div>"
      ],
      "text/plain": [
       "              open    high     low   close    volume\n",
       "date                                                \n",
       "2019-05-02  127.98  128.00  125.52  126.21  27350161\n",
       "2019-05-03  127.36  129.43  127.25  128.90  24911126\n",
       "2019-05-06  126.39  128.56  126.11  128.15  24239464\n",
       "2019-05-07  126.46  127.18  124.22  125.52  36017661\n",
       "2019-05-08  125.44  126.37  124.75  125.51  28418996"
      ]
     },
     "execution_count": 5,
     "metadata": {},
     "output_type": "execute_result"
    }
   ],
   "source": [
    "MSFT.tail()"
   ]
  },
  {
   "cell_type": "code",
   "execution_count": 6,
   "metadata": {},
   "outputs": [
    {
     "data": {
      "text/plain": [
       "<matplotlib.axes._subplots.AxesSubplot at 0x1b83f9ff940>"
      ]
     },
     "execution_count": 6,
     "metadata": {},
     "output_type": "execute_result"
    },
    {
     "data": {
      "image/png": "[encoded data removed]",
      "text/plain": [
       "<Figure size 432x288 with 1 Axes>"
      ]
     },
     "metadata": {
      "needs_background": "light"
     },
     "output_type": "display_data"
    }
   ],
   "source": [
    "MSFT.plot(y='close')"
   ]
  },
  {
   "cell_type": "markdown",
   "metadata": {},
   "source": [
    "### Simple Rate of Return"
   ]
  },
  {
   "cell_type": "markdown",
   "metadata": {},
   "source": [
    "Calculate the simple returns of ‘MSFT’ for the given timeframe."
   ]
  },
  {
   "cell_type": "markdown",
   "metadata": {},
   "source": [
    "$$\n",
    "\\frac{P_1 - P_0}{P_0} = \\frac{P_1}{P_0} - 1\n",
    "$$"
   ]
  },
  {
   "cell_type": "code",
   "execution_count": 7,
   "metadata": {},
   "outputs": [
    {
     "name": "stdout",
     "output_type": "stream",
     "text": [
      "date\n",
      "2015-01-02         NaN\n",
      "2015-01-05   -0.009303\n",
      "2015-01-06   -0.014570\n",
      "2015-01-07    0.012704\n",
      "2015-01-08    0.029417\n",
      "2015-01-09   -0.008404\n",
      "2015-01-12   -0.012502\n",
      "2015-01-13   -0.005259\n",
      "2015-01-14   -0.008630\n",
      "2015-01-15   -0.010336\n",
      "2015-01-16    0.016712\n",
      "2015-01-20    0.003242\n",
      "2015-01-21   -0.010130\n",
      "2015-01-22    0.026349\n",
      "2015-01-23    0.001062\n",
      "2015-01-26   -0.003603\n",
      "2015-01-27   -0.092533\n",
      "2015-01-28   -0.034460\n",
      "2015-01-29    0.019909\n",
      "2015-01-30   -0.038324\n",
      "2015-02-02    0.021782\n",
      "2015-02-03    0.007752\n",
      "2015-02-04    0.005769\n",
      "2015-02-05    0.014578\n",
      "2015-02-06   -0.000940\n",
      "2015-02-09   -0.001180\n",
      "2015-02-10    0.005665\n",
      "2015-02-11   -0.005165\n",
      "2015-02-12    0.016754\n",
      "2015-02-13    0.018102\n",
      "                ...   \n",
      "2019-03-27   -0.009668\n",
      "2019-03-28    0.001370\n",
      "2019-03-29    0.008638\n",
      "2019-04-01    0.009157\n",
      "2019-04-02    0.001428\n",
      "2019-04-03    0.006544\n",
      "2019-04-04   -0.005085\n",
      "2019-04-05    0.004440\n",
      "2019-04-08    0.000334\n",
      "2019-04-09   -0.005420\n",
      "2019-04-10    0.007629\n",
      "2019-04-11    0.001165\n",
      "2019-04-12    0.005152\n",
      "2019-04-15    0.000827\n",
      "2019-04-16   -0.002313\n",
      "2019-04-17    0.008280\n",
      "2019-04-18    0.013140\n",
      "2019-04-22    0.003161\n",
      "2019-04-23    0.013575\n",
      "2019-04-24   -0.003428\n",
      "2019-04-25    0.033117\n",
      "2019-04-26    0.005730\n",
      "2019-04-29   -0.000924\n",
      "2019-04-30    0.006396\n",
      "2019-05-01   -0.020827\n",
      "2019-05-02   -0.013059\n",
      "2019-05-03    0.021314\n",
      "2019-05-06   -0.005818\n",
      "2019-05-07   -0.020523\n",
      "2019-05-08   -0.000080\n",
      "Name: simple_return, Length: 1094, dtype: float64\n"
     ]
    }
   ],
   "source": [
    "MSFT['simple_return'] = (MSFT['close'] / MSFT['close'].shift(1)) - 1\n",
    "print (MSFT['simple_return'])"
   ]
  },
  {
   "cell_type": "code",
   "execution_count": 8,
   "metadata": {},
   "outputs": [
    {
     "data": {
      "text/plain": [
       "<matplotlib.axes._subplots.AxesSubplot at 0x1b841a5dcc0>"
      ]
     },
     "execution_count": 8,
     "metadata": {},
     "output_type": "execute_result"
    },
    {
     "data": {
      "image/png": "[encoded data removed]",
      "text/plain": [
       "<Figure size 432x288 with 1 Axes>"
      ]
     },
     "metadata": {
      "needs_background": "light"
     },
     "output_type": "display_data"
    }
   ],
   "source": [
    "MSFT.plot(y='simple_return')"
   ]
  },
  {
   "cell_type": "code",
   "execution_count": null,
   "metadata": {},
   "outputs": [],
   "source": []
  }
 ],
 "metadata": {
  "kernelspec": {
   "display_name": "Python 3",
   "language": "python",
   "name": "python3"
  },
  "language_info": {
   "codemirror_mode": {
    "name": "ipython",
    "version": 3
   },
   "file_extension": ".py",
   "mimetype": "text/x-python",
   "name": "python",
   "nbconvert_exporter": "python",
   "pygments_lexer": "ipython3",
   "version": "3.6.8"
  }
 },
 "nbformat": 4,
 "nbformat_minor": 2
}
